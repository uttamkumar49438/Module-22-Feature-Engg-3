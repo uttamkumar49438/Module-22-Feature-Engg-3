{
  "nbformat": 4,
  "nbformat_minor": 0,
  "metadata": {
    "colab": {
      "provenance": []
    },
    "kernelspec": {
      "name": "python3",
      "display_name": "Python 3"
    },
    "language_info": {
      "name": "python"
    }
  },
  "cells": [
    {
      "cell_type": "markdown",
      "source": [
        "Q1. What is Min-Max scaling, and how is it used in data preprocessing? Provide an example to illustrate its\n",
        "application."
      ],
      "metadata": {
        "id": "78IaFWrXE3OW"
      }
    },
    {
      "cell_type": "markdown",
      "source": [
        "=Min-Max scaling is a data preprocessing technique used to scale numerical features to a specific range, typically between 0 and 1.\n",
        "=It works by subtracting the minimum value of the feature and then dividing by the range (difference between maximum and minimum values)."
      ],
      "metadata": {
        "id": "CEX0Vbf8E-vK"
      }
    },
    {
      "cell_type": "markdown",
      "source": [
        "Q2. What is the Unit Vector technique in feature scaling, and how does it differ from Min-Max scaling?\n",
        "Provide an example to illustrate its application."
      ],
      "metadata": {
        "id": "Bn2OfHFuFEu5"
      }
    },
    {
      "cell_type": "markdown",
      "source": [
        "=The unit vector technique scales each feature vector to have unit norm (length).\n",
        "=It differs from Min-Max scaling in that it does not scale features to a specific range but instead ensures that all feature vectors have the same length."
      ],
      "metadata": {
        "id": "8bS1yb4TFHkw"
      }
    },
    {
      "cell_type": "markdown",
      "source": [
        "Q3. What is PCA (Principle Component Analysis), and how is it used in dimensionality reduction? Provide an\n",
        "example to illustrate its application."
      ],
      "metadata": {
        "id": "TDDc53byFNhG"
      }
    },
    {
      "cell_type": "markdown",
      "source": [
        "=PCA is a dimensionality reduction technique used to transform high-dimensional data into a lower-dimensional space while preserving most of the variance in the data.\n",
        "=It identifies the principal components (linear combinations of original features) that capture the maximum variance in the data."
      ],
      "metadata": {
        "id": "qpwvGTAmFQXC"
      }
    },
    {
      "cell_type": "markdown",
      "source": [
        "Q4. What is the relationship between PCA and Feature Extraction, and how can PCA be used for Feature\n",
        "Extraction? Provide an example to illustrate this concept."
      ],
      "metadata": {
        "id": "n4gC_bw5FVY_"
      }
    },
    {
      "cell_type": "markdown",
      "source": [
        "=PCA is a form of feature extraction that transforms the original features into a new set of features (principal components) that are linearly uncorrelated and capture the maximum variance in the data.\n",
        "=It can be used for feature extraction by selecting a subset of principal components that explain most of the variance in the data."
      ],
      "metadata": {
        "id": "8o56tRoWFbE3"
      }
    },
    {
      "cell_type": "markdown",
      "source": [
        "Q5. You are working on a project to build a recommendation system for a food delivery service. The dataset\n",
        "contains features such as price, rating, and delivery time. Explain how you would use Min-Max scaling to\n",
        "preprocess the data."
      ],
      "metadata": {
        "id": "FyohSpGkFhPU"
      }
    },
    {
      "cell_type": "markdown",
      "source": [
        "=Apply Min-Max scaling to features such as price, rating, and delivery time to scale them to a range between 0 and 1.\n",
        "=For example, if the price of items ranges from $5 to $50, after Min-Max scaling, the prices will be scaled to a range between 0 and 1, making them directly comparable."
      ],
      "metadata": {
        "id": "xn2-EP3QFkKk"
      }
    },
    {
      "cell_type": "markdown",
      "source": [
        "Q6. You are working on a project to build a model to predict stock prices. The dataset contains many\n",
        "features, such as company financial data and market trends. Explain how you would use PCA to reduce the\n",
        "dimensionality of the dataset."
      ],
      "metadata": {
        "id": "QkiOs72dFrlB"
      }
    },
    {
      "cell_type": "markdown",
      "source": [
        "=Apply PCA to reduce the dimensionality of the dataset containing features such as company financial data and market trends.\n",
        "=PCA will identify the principal components that capture the most variance in the data, allowing you to reduce the number of features while retaining most of the information."
      ],
      "metadata": {
        "id": "p6yU8JT_FtAY"
      }
    },
    {
      "cell_type": "markdown",
      "source": [
        "Q7. For a dataset containing the following values: [1, 5, 10, 15, 20], perform Min-Max scaling to transform the\n",
        "values to a range of -1 to 1."
      ],
      "metadata": {
        "id": "SCxx_wP8Fxj5"
      }
    },
    {
      "cell_type": "markdown",
      "source": [
        "Given dataset: [1, 5, 10, 15, 20]\n",
        "Min value = 1, Max value = 20\n",
        "After Min-Max scaling, the transformation can be calculated as:\n",
        "(x - min) / (max - min) * (new_max - new_min) + new_min\n",
        "For a range of -1 to 1, new_min = -1, new_max = 1\n",
        "After scaling, the values will be transformed to [-1, -0.5, 0, 0.5, 1]."
      ],
      "metadata": {
        "id": "FuvGF_ggF0Gv"
      }
    },
    {
      "cell_type": "markdown",
      "source": [
        "Q8. For a dataset containing the following features: [height, weight, age, gender, blood pressure], perform\n",
        "Feature Extraction using PCA. How many principal components would you choose to retain, and why?"
      ],
      "metadata": {
        "id": "Er_kSChMF6Tc"
      }
    },
    {
      "cell_type": "markdown",
      "source": [
        "=To perform feature extraction using PCA on the dataset containing features like height, weight, age, gender, and blood pressure.\n",
        "=Determine the number of principal components to retain based on the cumulative explained variance ratio, ensuring that it captures a significant portion (e.g., 95%) of the total variance.\n",
        "=The number of principal components chosen should balance the trade-off between dimensionality reduction and preserving the information present in the original features."
      ],
      "metadata": {
        "id": "msywutvjF-Eb"
      }
    }
  ]
}